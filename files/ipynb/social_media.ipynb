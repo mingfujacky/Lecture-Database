{
 "cells": [
  {
   "cell_type": "markdown",
   "metadata": {},
   "source": [
    "### Import Library"
   ]
  },
  {
   "cell_type": "code",
   "execution_count": 1,
   "metadata": {},
   "outputs": [],
   "source": [
    "import sys\n",
    "sys.path.append(\n",
    "    \"/Users/jacky/Library/Mobile Documents/com~apple~CloudDocs/交大教學/DB/Lecture-Database/.venv/lib/python3.13/site-packages\")\n",
    "import mysql.connector"
   ]
  },
  {
   "cell_type": "markdown",
   "metadata": {},
   "source": [
    "### Build Functions"
   ]
  },
  {
   "cell_type": "code",
   "execution_count": null,
   "metadata": {},
   "outputs": [],
   "source": [
    "conn = mysql.connector.connect(\n",
    "    host=\"localhost\",   # Change to your MySQL server host\n",
    "    user=\"dbms_demo\",        # Change to your username\n",
    "    password=\"NYCUdbms314\",  # Change to your password\n",
    "    database=\"demo\"  # Change to your database name\n",
    ")"
   ]
  },
  {
   "cell_type": "code",
   "execution_count": 7,
   "metadata": {},
   "outputs": [],
   "source": [
    "def build_connection(host, user, password, database):\n",
    "    connection = None\n",
    "    try:\n",
    "        connection = mysql.connector.connect(\n",
    "        host=host,\n",
    "        user=user,\n",
    "        password=password,\n",
    "        database=database\n",
    "        )\n",
    "        print(f'Connection to MySQL {database} database successfully!!')\n",
    "    except Error as e:\n",
    "        print(f'The error {e} occured')\n",
    "    return connection\n",
    "\n",
    "def execute_sql(connection, sql):\n",
    "    cursor = connection.cursor()\n",
    "    try:\n",
    "        cursor.execute(sql)\n",
    "        connection.commit()\n",
    "        print(\"Query executed successfully\")\n",
    "    except Error as e:\n",
    "        print(f\"The error '{e}' occurred\")\n",
    "\n",
    "def execute_read(connection, sql):\n",
    "    cursor = connection.cursor()\n",
    "    result = None\n",
    "    try:\n",
    "        cursor.execute(sql)\n",
    "        result = cursor.fetchall()\n",
    "        return result\n",
    "    except Error as e:\n",
    "        print(f\"The error '{e}' occurred\")"
   ]
  },
  {
   "cell_type": "markdown",
   "metadata": {},
   "source": [
    "### Build Connection"
   ]
  },
  {
   "cell_type": "code",
   "execution_count": 8,
   "metadata": {},
   "outputs": [
    {
     "name": "stdout",
     "output_type": "stream",
     "text": [
      "Connection to MySQL demo database successfully!!\n"
     ]
    }
   ],
   "source": [
    "connection = build_connection('localhost', 'dbms_demo', 'NYCUdbms314', 'demo')"
   ]
  },
  {
   "cell_type": "markdown",
   "metadata": {},
   "source": [
    "### Create Tables"
   ]
  },
  {
   "cell_type": "code",
   "execution_count": 9,
   "metadata": {},
   "outputs": [
    {
     "ename": "NameError",
     "evalue": "name 'Error' is not defined",
     "output_type": "error",
     "traceback": [
      "\u001b[0;31m---------------------------------------------------------------------------\u001b[0m",
      "\u001b[0;31mMySQLInterfaceError\u001b[0m                       Traceback (most recent call last)",
      "File \u001b[0;32m~/Library/Mobile Documents/com~apple~CloudDocs/交大教學/DB/Lecture-Database/.venv/lib/python3.13/site-packages/mysql/connector/connection_cext.py:755\u001b[0m, in \u001b[0;36mCMySQLConnection.cmd_query\u001b[0;34m(self, query, raw, buffered, raw_as_string, **kwargs)\u001b[0m\n\u001b[1;32m    754\u001b[0m         query \u001b[38;5;241m=\u001b[39m query\u001b[38;5;241m.\u001b[39mencode(\u001b[38;5;124m\"\u001b[39m\u001b[38;5;124mutf-8\u001b[39m\u001b[38;5;124m\"\u001b[39m)\n\u001b[0;32m--> 755\u001b[0m     \u001b[38;5;28;43mself\u001b[39;49m\u001b[38;5;241;43m.\u001b[39;49m\u001b[43m_cmysql\u001b[49m\u001b[38;5;241;43m.\u001b[39;49m\u001b[43mquery\u001b[49m\u001b[43m(\u001b[49m\n\u001b[1;32m    756\u001b[0m \u001b[43m        \u001b[49m\u001b[43mquery\u001b[49m\u001b[43m,\u001b[49m\n\u001b[1;32m    757\u001b[0m \u001b[43m        \u001b[49m\u001b[43mraw\u001b[49m\u001b[38;5;241;43m=\u001b[39;49m\u001b[43mraw\u001b[49m\u001b[43m,\u001b[49m\n\u001b[1;32m    758\u001b[0m \u001b[43m        \u001b[49m\u001b[43mbuffered\u001b[49m\u001b[38;5;241;43m=\u001b[39;49m\u001b[43mbuffered\u001b[49m\u001b[43m,\u001b[49m\n\u001b[1;32m    759\u001b[0m \u001b[43m        \u001b[49m\u001b[43mraw_as_string\u001b[49m\u001b[38;5;241;43m=\u001b[39;49m\u001b[43mraw_as_string\u001b[49m\u001b[43m,\u001b[49m\n\u001b[1;32m    760\u001b[0m \u001b[43m        \u001b[49m\u001b[43mquery_attrs\u001b[49m\u001b[38;5;241;43m=\u001b[39;49m\u001b[38;5;28;43mself\u001b[39;49m\u001b[38;5;241;43m.\u001b[39;49m\u001b[43mquery_attrs\u001b[49m\u001b[43m,\u001b[49m\n\u001b[1;32m    761\u001b[0m \u001b[43m    \u001b[49m\u001b[43m)\u001b[49m\n\u001b[1;32m    762\u001b[0m \u001b[38;5;28;01mexcept\u001b[39;00m MySQLInterfaceError \u001b[38;5;28;01mas\u001b[39;00m err:\n",
      "\u001b[0;31mMySQLInterfaceError\u001b[0m: You have an error in your SQL syntax; check the manual that corresponds to your MySQL server version for the right syntax to use near 'AUTOINCREMENT,\n    name TEXT NOT NULL,\n    age INTEGER,\n    gender TEXT,\n    nat' at line 2",
      "\nThe above exception was the direct cause of the following exception:\n",
      "\u001b[0;31mProgrammingError\u001b[0m                          Traceback (most recent call last)",
      "Cell \u001b[0;32mIn[7], line 18\u001b[0m, in \u001b[0;36mexecute_sql\u001b[0;34m(connection, sql)\u001b[0m\n\u001b[1;32m     17\u001b[0m \u001b[38;5;28;01mtry\u001b[39;00m:\n\u001b[0;32m---> 18\u001b[0m     \u001b[43mcursor\u001b[49m\u001b[38;5;241;43m.\u001b[39;49m\u001b[43mexecute\u001b[49m\u001b[43m(\u001b[49m\u001b[43msql\u001b[49m\u001b[43m)\u001b[49m\n\u001b[1;32m     19\u001b[0m     connection\u001b[38;5;241m.\u001b[39mcommit()\n",
      "File \u001b[0;32m~/Library/Mobile Documents/com~apple~CloudDocs/交大教學/DB/Lecture-Database/.venv/lib/python3.13/site-packages/mysql/connector/cursor_cext.py:351\u001b[0m, in \u001b[0;36mCMySQLCursor.execute\u001b[0;34m(self, operation, params, map_results)\u001b[0m\n\u001b[1;32m    349\u001b[0m \u001b[38;5;28;01mtry\u001b[39;00m:\n\u001b[1;32m    350\u001b[0m     \u001b[38;5;28mself\u001b[39m\u001b[38;5;241m.\u001b[39m_handle_result(\n\u001b[0;32m--> 351\u001b[0m         \u001b[38;5;28;43mself\u001b[39;49m\u001b[38;5;241;43m.\u001b[39;49m\u001b[43m_connection\u001b[49m\u001b[38;5;241;43m.\u001b[39;49m\u001b[43mcmd_query\u001b[49m\u001b[43m(\u001b[49m\n\u001b[1;32m    352\u001b[0m \u001b[43m            \u001b[49m\u001b[38;5;28;43mself\u001b[39;49m\u001b[38;5;241;43m.\u001b[39;49m\u001b[43m_stmt_partition\u001b[49m\u001b[43m[\u001b[49m\u001b[38;5;124;43m\"\u001b[39;49m\u001b[38;5;124;43mmappable_stmt\u001b[39;49m\u001b[38;5;124;43m\"\u001b[39;49m\u001b[43m]\u001b[49m\u001b[43m,\u001b[49m\n\u001b[1;32m    353\u001b[0m \u001b[43m            \u001b[49m\u001b[43mraw\u001b[49m\u001b[38;5;241;43m=\u001b[39;49m\u001b[38;5;28;43mself\u001b[39;49m\u001b[38;5;241;43m.\u001b[39;49m\u001b[43m_raw\u001b[49m\u001b[43m,\u001b[49m\n\u001b[1;32m    354\u001b[0m \u001b[43m            \u001b[49m\u001b[43mbuffered\u001b[49m\u001b[38;5;241;43m=\u001b[39;49m\u001b[38;5;28;43mself\u001b[39;49m\u001b[38;5;241;43m.\u001b[39;49m\u001b[43m_buffered\u001b[49m\u001b[43m,\u001b[49m\n\u001b[1;32m    355\u001b[0m \u001b[43m            \u001b[49m\u001b[43mraw_as_string\u001b[49m\u001b[38;5;241;43m=\u001b[39;49m\u001b[38;5;28;43mself\u001b[39;49m\u001b[38;5;241;43m.\u001b[39;49m\u001b[43m_raw_as_string\u001b[49m\u001b[43m,\u001b[49m\n\u001b[1;32m    356\u001b[0m \u001b[43m        \u001b[49m\u001b[43m)\u001b[49m\n\u001b[1;32m    357\u001b[0m     )\n\u001b[1;32m    358\u001b[0m \u001b[38;5;28;01mexcept\u001b[39;00m MySQLInterfaceError \u001b[38;5;28;01mas\u001b[39;00m err:\n",
      "File \u001b[0;32m~/Library/Mobile Documents/com~apple~CloudDocs/交大教學/DB/Lecture-Database/.venv/lib/python3.13/site-packages/mysql/connector/opentelemetry/context_propagation.py:97\u001b[0m, in \u001b[0;36mwith_context_propagation.<locals>.wrapper\u001b[0;34m(cnx, *args, **kwargs)\u001b[0m\n\u001b[1;32m     96\u001b[0m \u001b[38;5;28;01mif\u001b[39;00m \u001b[38;5;129;01mnot\u001b[39;00m OTEL_ENABLED \u001b[38;5;129;01mor\u001b[39;00m \u001b[38;5;129;01mnot\u001b[39;00m cnx\u001b[38;5;241m.\u001b[39motel_context_propagation:\n\u001b[0;32m---> 97\u001b[0m     \u001b[38;5;28;01mreturn\u001b[39;00m \u001b[43mmethod\u001b[49m\u001b[43m(\u001b[49m\u001b[43mcnx\u001b[49m\u001b[43m,\u001b[49m\u001b[43m \u001b[49m\u001b[38;5;241;43m*\u001b[39;49m\u001b[43margs\u001b[49m\u001b[43m,\u001b[49m\u001b[43m \u001b[49m\u001b[38;5;241;43m*\u001b[39;49m\u001b[38;5;241;43m*\u001b[39;49m\u001b[43mkwargs\u001b[49m\u001b[43m)\u001b[49m\n\u001b[1;32m     99\u001b[0m current_span \u001b[38;5;241m=\u001b[39m trace\u001b[38;5;241m.\u001b[39mget_current_span()\n",
      "File \u001b[0;32m~/Library/Mobile Documents/com~apple~CloudDocs/交大教學/DB/Lecture-Database/.venv/lib/python3.13/site-packages/mysql/connector/connection_cext.py:763\u001b[0m, in \u001b[0;36mCMySQLConnection.cmd_query\u001b[0;34m(self, query, raw, buffered, raw_as_string, **kwargs)\u001b[0m\n\u001b[1;32m    762\u001b[0m \u001b[38;5;28;01mexcept\u001b[39;00m MySQLInterfaceError \u001b[38;5;28;01mas\u001b[39;00m err:\n\u001b[0;32m--> 763\u001b[0m     \u001b[38;5;28;01mraise\u001b[39;00m get_mysql_exception(\n\u001b[1;32m    764\u001b[0m         err\u001b[38;5;241m.\u001b[39merrno, msg\u001b[38;5;241m=\u001b[39merr\u001b[38;5;241m.\u001b[39mmsg, sqlstate\u001b[38;5;241m=\u001b[39merr\u001b[38;5;241m.\u001b[39msqlstate\n\u001b[1;32m    765\u001b[0m     ) \u001b[38;5;28;01mfrom\u001b[39;00m \u001b[38;5;21;01merr\u001b[39;00m\n\u001b[1;32m    766\u001b[0m \u001b[38;5;28;01mexcept\u001b[39;00m \u001b[38;5;167;01mAttributeError\u001b[39;00m \u001b[38;5;28;01mas\u001b[39;00m err:\n",
      "\u001b[0;31mProgrammingError\u001b[0m: 1064 (42000): You have an error in your SQL syntax; check the manual that corresponds to your MySQL server version for the right syntax to use near 'AUTOINCREMENT,\n    name TEXT NOT NULL,\n    age INTEGER,\n    gender TEXT,\n    nat' at line 2",
      "\nDuring handling of the above exception, another exception occurred:\n",
      "\u001b[0;31mNameError\u001b[0m                                 Traceback (most recent call last)",
      "Cell \u001b[0;32mIn[9], line 38\u001b[0m\n\u001b[1;32m     19\u001b[0m create_comments_table \u001b[38;5;241m=\u001b[39m \u001b[38;5;124m\"\"\"\u001b[39m\n\u001b[1;32m     20\u001b[0m \u001b[38;5;124mCREATE TABLE IF NOT EXISTS comments (\u001b[39m\n\u001b[1;32m     21\u001b[0m \u001b[38;5;124m    id INTEGER PRIMARY KEY AUTOINCREMENT,\u001b[39m\n\u001b[0;32m   (...)\u001b[0m\n\u001b[1;32m     27\u001b[0m \u001b[38;5;124m);\u001b[39m\n\u001b[1;32m     28\u001b[0m \u001b[38;5;124m\"\"\"\u001b[39m\n\u001b[1;32m     29\u001b[0m create_likes_table \u001b[38;5;241m=\u001b[39m \u001b[38;5;124m\"\"\"\u001b[39m\n\u001b[1;32m     30\u001b[0m \u001b[38;5;124mCREATE TABLE IF NOT EXISTS likes (\u001b[39m\n\u001b[1;32m     31\u001b[0m \u001b[38;5;124m    id INTEGER PRIMARY KEY AUTOINCREMENT,\u001b[39m\n\u001b[0;32m   (...)\u001b[0m\n\u001b[1;32m     36\u001b[0m \u001b[38;5;124m);\u001b[39m\n\u001b[1;32m     37\u001b[0m \u001b[38;5;124m\"\"\"\u001b[39m\n\u001b[0;32m---> 38\u001b[0m \u001b[43mexecute_sql\u001b[49m\u001b[43m(\u001b[49m\u001b[43mconnection\u001b[49m\u001b[43m,\u001b[49m\u001b[43m \u001b[49m\u001b[43mcreate_users_table\u001b[49m\u001b[43m)\u001b[49m\n\u001b[1;32m     39\u001b[0m execute_sql(connection, create_posts_table)\n\u001b[1;32m     40\u001b[0m execute_sql(connection, create_comments_table)\n",
      "Cell \u001b[0;32mIn[7], line 21\u001b[0m, in \u001b[0;36mexecute_sql\u001b[0;34m(connection, sql)\u001b[0m\n\u001b[1;32m     19\u001b[0m     connection\u001b[38;5;241m.\u001b[39mcommit()\n\u001b[1;32m     20\u001b[0m     \u001b[38;5;28mprint\u001b[39m(\u001b[38;5;124m\"\u001b[39m\u001b[38;5;124mQuery executed successfully\u001b[39m\u001b[38;5;124m\"\u001b[39m)\n\u001b[0;32m---> 21\u001b[0m \u001b[38;5;28;01mexcept\u001b[39;00m \u001b[43mError\u001b[49m \u001b[38;5;28;01mas\u001b[39;00m e:\n\u001b[1;32m     22\u001b[0m     \u001b[38;5;28mprint\u001b[39m(\u001b[38;5;124mf\u001b[39m\u001b[38;5;124m\"\u001b[39m\u001b[38;5;124mThe error \u001b[39m\u001b[38;5;124m'\u001b[39m\u001b[38;5;132;01m{\u001b[39;00me\u001b[38;5;132;01m}\u001b[39;00m\u001b[38;5;124m'\u001b[39m\u001b[38;5;124m occurred\u001b[39m\u001b[38;5;124m\"\u001b[39m)\n",
      "\u001b[0;31mNameError\u001b[0m: name 'Error' is not defined"
     ]
    }
   ],
   "source": [
    "create_users_table = \"\"\"\n",
    "CREATE TABLE IF NOT EXISTS users (\n",
    "    id INTEGER PRIMARY KEY AUTOINCREMENT,\n",
    "    name TEXT NOT NULL,\n",
    "    age INTEGER,\n",
    "    gender TEXT,\n",
    "    nationality TEXT\n",
    ");\n",
    "\"\"\"\n",
    "create_posts_table = \"\"\"\n",
    "CREATE TABLE IF NOT EXISTS posts (\n",
    "    id INTEGER PRIMARY KEY AUTOINCREMENT,\n",
    "    title TEXT NOT NULL,\n",
    "    description TEXT,\n",
    "    user_id INTEGER NOT NULL,\n",
    "    FOREIGN KEY (user_id) REFERENCES users (id)\n",
    ");\n",
    "\"\"\"\n",
    "create_comments_table = \"\"\"\n",
    "CREATE TABLE IF NOT EXISTS comments (\n",
    "    id INTEGER PRIMARY KEY AUTOINCREMENT,\n",
    "    text TEXT NOT NULL,\n",
    "    user_id INTEGER NOT NULL,\n",
    "    post_id INTEGER NOT NULL,\n",
    "    FOREIGN KEY (user_id) REFERENCES users (id),\n",
    "    FOREIGN KEY (post_id) REFERENCES posts (id)\n",
    ");\n",
    "\"\"\"\n",
    "create_likes_table = \"\"\"\n",
    "CREATE TABLE IF NOT EXISTS likes (\n",
    "    id INTEGER PRIMARY KEY AUTOINCREMENT,\n",
    "    user_id INTEGER NOT NULL,\n",
    "\tpost_id\tINTEGER NOT NULL,\n",
    "\tFOREIGN KEY(\"user_id\") REFERENCES users (id),\n",
    "\tFOREIGN KEY(\"post_id\") REFERENCES posts (id)\n",
    ");\n",
    "\"\"\"\n",
    "execute_sql(connection, create_users_table)\n",
    "execute_sql(connection, create_posts_table)\n",
    "execute_sql(connection, create_comments_table)\n",
    "execute_sql(connection, create_likes_table)"
   ]
  },
  {
   "cell_type": "markdown",
   "metadata": {},
   "source": [
    "### Create Records"
   ]
  },
  {
   "cell_type": "code",
   "execution_count": 5,
   "metadata": {},
   "outputs": [
    {
     "name": "stdout",
     "output_type": "stream",
     "text": [
      "Query executed successfully\n"
     ]
    }
   ],
   "source": [
    "insert_users = \"\"\"\n",
    "INSERT INTO\n",
    "    users (name, age, gender, nationality)\n",
    "VALUES\n",
    "    ('James', 25, 'male', 'USA'),\n",
    "    ('Leila', 32, 'female', 'France'),\n",
    "    ('Brigitte', 35, 'female', 'England'),\n",
    "    ('Mike', 40, 'male', 'Denmark'),\n",
    "    ('Elizabeth', 21, 'female', 'Canada');\n",
    "\"\"\"\n",
    "execute_sql(connection, insert_users)"
   ]
  },
  {
   "cell_type": "code",
   "execution_count": 6,
   "metadata": {},
   "outputs": [
    {
     "name": "stdout",
     "output_type": "stream",
     "text": [
      "Query executed successfully\n"
     ]
    }
   ],
   "source": [
    "insert_posts = \"\"\"\n",
    "INSERT INTO\n",
    "    posts (title, description, user_id)\n",
    "VALUES\n",
    "    ('Happy', 'I am feeling very happy today', 1),\n",
    "    ('Hot Weather', 'The weather is very hot today', 2),\n",
    "    ('Help', 'I need some help with my work', 2),\n",
    "    ('Great News', 'I am getting married', 1),\n",
    "    ('Interesting Game', 'It was a fantastic game of tennis', 5),\n",
    "    ('Party', 'Anyone up for a late-night party today?', 3);\n",
    "\"\"\"\n",
    "execute_sql(connection, insert_posts) "
   ]
  },
  {
   "cell_type": "code",
   "execution_count": 7,
   "metadata": {},
   "outputs": [
    {
     "name": "stdout",
     "output_type": "stream",
     "text": [
      "Query executed successfully\n"
     ]
    }
   ],
   "source": [
    "insert_comments = \"\"\"\n",
    "INSERT INTO\n",
    "    comments (text, user_id, post_id)\n",
    "VALUES\n",
    "    ('Count me in', 1, 6),\n",
    "    ('What sort of help?', 5, 3),\n",
    "    ('Congrats buddy', 2, 4),\n",
    "    ('I was rooting for Nadal though', 4, 5),\n",
    "    ('Help with your thesis?', 2, 3),\n",
    "    ('Many congratulations', 5, 4);\n",
    "\"\"\"\n",
    "execute_sql(connection, insert_comments) "
   ]
  },
  {
   "cell_type": "code",
   "execution_count": 8,
   "metadata": {},
   "outputs": [
    {
     "name": "stdout",
     "output_type": "stream",
     "text": [
      "Query executed successfully\n"
     ]
    }
   ],
   "source": [
    "insert_likes = \"\"\"\n",
    "INSERT INTO\n",
    "    likes (user_id, post_id)\n",
    "VALUES\n",
    "    (1, 6),\n",
    "    (2, 3),\n",
    "    (1, 5),\n",
    "    (5, 4),\n",
    "    (2, 4),\n",
    "    (4, 2),\n",
    "    (3, 6);\n",
    "\"\"\"\n",
    "execute_sql(connection, insert_likes)"
   ]
  },
  {
   "cell_type": "markdown",
   "metadata": {},
   "source": [
    "### Read Records"
   ]
  },
  {
   "cell_type": "code",
   "execution_count": 9,
   "metadata": {},
   "outputs": [
    {
     "name": "stdout",
     "output_type": "stream",
     "text": [
      "(1, 'James', 25, 'male', 'USA')\n",
      "(2, 'Leila', 32, 'female', 'France')\n",
      "(3, 'Brigitte', 35, 'female', 'England')\n",
      "(4, 'Mike', 40, 'male', 'Denmark')\n",
      "(5, 'Elizabeth', 21, 'female', 'Canada')\n",
      "(6, 'James', 25, 'male', 'USA')\n",
      "(7, 'Leila', 32, 'female', 'France')\n",
      "(8, 'Brigitte', 35, 'female', 'England')\n",
      "(9, 'Mike', 40, 'male', 'Denmark')\n",
      "(10, 'Elizabeth', 21, 'female', 'Canada')\n",
      "(11, 'James', 25, 'male', 'USA')\n",
      "(12, 'Leila', 32, 'female', 'France')\n",
      "(13, 'Brigitte', 35, 'female', 'England')\n",
      "(14, 'Mike', 40, 'male', 'Denmark')\n",
      "(15, 'Elizabeth', 21, 'female', 'Canada')\n"
     ]
    }
   ],
   "source": [
    "select_users = \"SELECT * FROM users\"\n",
    "users = execute_read(connection, select_users)\n",
    "for user in users:\n",
    "    print(user)"
   ]
  },
  {
   "cell_type": "code",
   "execution_count": 10,
   "metadata": {},
   "outputs": [
    {
     "name": "stdout",
     "output_type": "stream",
     "text": [
      "(1, 'Happy', 'I am feeling very happy today', 1)\n",
      "(2, 'Hot Weather', 'The weather has become pleasant now', 2)\n",
      "(3, 'Help', 'I need some help with my work', 2)\n",
      "(4, 'Great News', 'I am getting married', 1)\n",
      "(5, 'Interesting Game', 'It was a fantastic game of tennis', 5)\n",
      "(6, 'Party', 'Anyone up for a late-night party today?', 3)\n",
      "(7, 'Happy', 'I am feeling very happy today', 1)\n",
      "(8, 'Hot Weather', 'The weather is very hot today', 2)\n",
      "(9, 'Help', 'I need some help with my work', 2)\n",
      "(10, 'Great News', 'I am getting married', 1)\n",
      "(11, 'Interesting Game', 'It was a fantastic game of tennis', 5)\n",
      "(12, 'Party', 'Anyone up for a late-night party today?', 3)\n",
      "(13, 'Happy', 'I am feeling very happy today', 1)\n",
      "(14, 'Hot Weather', 'The weather is very hot today', 2)\n",
      "(15, 'Help', 'I need some help with my work', 2)\n",
      "(16, 'Great News', 'I am getting married', 1)\n",
      "(17, 'Interesting Game', 'It was a fantastic game of tennis', 5)\n",
      "(18, 'Party', 'Anyone up for a late-night party today?', 3)\n"
     ]
    }
   ],
   "source": [
    "select_posts = \"SELECT * FROM posts\"\n",
    "posts = execute_read(connection, select_posts)\n",
    "for post in posts:\n",
    "    print(post)"
   ]
  },
  {
   "cell_type": "code",
   "execution_count": 11,
   "metadata": {},
   "outputs": [
    {
     "name": "stdout",
     "output_type": "stream",
     "text": [
      "(1, 'Count me in', 1, 6)\n",
      "(2, 'What sort of help?', 5, 3)\n",
      "(3, 'Congrats buddy', 2, 4)\n",
      "(4, 'I was rooting for Nadal though', 4, 5)\n",
      "(6, 'Many congratulations', 5, 4)\n",
      "(25, 'Count me in', 1, 6)\n",
      "(26, 'What sort of help?', 5, 3)\n",
      "(27, 'Congrats buddy', 2, 4)\n",
      "(28, 'I was rooting for Nadal though', 4, 5)\n",
      "(29, 'Help with your thesis?', 2, 3)\n",
      "(30, 'Many congratulations', 5, 4)\n",
      "(31, 'Count me in', 1, 6)\n",
      "(32, 'What sort of help?', 5, 3)\n",
      "(33, 'Congrats buddy', 2, 4)\n",
      "(34, 'I was rooting for Nadal though', 4, 5)\n",
      "(35, 'Help with your thesis?', 2, 3)\n",
      "(36, 'Many congratulations', 5, 4)\n"
     ]
    }
   ],
   "source": [
    "select_comments = \"SELECT * FROM comments\"\n",
    "comments = execute_read(connection, select_comments)\n",
    "for comment in comments:\n",
    "    print(comment)"
   ]
  },
  {
   "cell_type": "code",
   "execution_count": 12,
   "metadata": {},
   "outputs": [
    {
     "name": "stdout",
     "output_type": "stream",
     "text": [
      "(1, 1, 6)\n",
      "(2, 2, 3)\n",
      "(3, 1, 5)\n",
      "(4, 5, 4)\n",
      "(5, 2, 4)\n",
      "(6, 4, 2)\n",
      "(7, 3, 6)\n",
      "(8, 1, 6)\n",
      "(9, 2, 3)\n",
      "(10, 1, 5)\n",
      "(11, 5, 4)\n",
      "(12, 2, 4)\n",
      "(13, 4, 2)\n",
      "(14, 3, 6)\n"
     ]
    }
   ],
   "source": [
    "select_likes = \"SELECT * FROM likes\"\n",
    "likes = execute_read(connection, select_likes)\n",
    "for like in likes:\n",
    "    print(like)"
   ]
  },
  {
   "cell_type": "code",
   "execution_count": null,
   "metadata": {},
   "outputs": [],
   "source": [
    "# return the user ids and names, along with the description of the posts that these users posted\n",
    "select_users_posts = \"\"\"\n",
    "SELECT users.id, users.name, posts.description\n",
    "FROM \n",
    "    posts \n",
    "    INNER JOIN users ON posts.user_id = users.id;\n",
    "\"\"\"\n",
    "users_posts = execute_read(connection, select_users_posts)\n",
    "for user_post in users_posts:\n",
    "    print(user_post)"
   ]
  },
  {
   "cell_type": "code",
   "execution_count": null,
   "metadata": {},
   "outputs": [],
   "source": [
    "# returns all posts, along with the comments on the posts and \n",
    "# the names of the users who posted the comments\n",
    "select_posts_comments_users = \"\"\"\n",
    "SELECT posts.description as post, comments.text as comment, users.name as name\n",
    "FROM\n",
    "    posts \n",
    "    INNER JOIN comments ON posts.id = comments.post_id\n",
    "    INNER JOIN users ON users.id = comments.user_id;\n",
    "\"\"\"\n",
    "posts_comments_users = execute_read(connection, select_posts_comments_users)\n",
    "for post_comment_user in posts_comments_users:\n",
    "    print(post_comment_user)"
   ]
  },
  {
   "cell_type": "code",
   "execution_count": null,
   "metadata": {},
   "outputs": [],
   "source": [
    "# output that the column names\n",
    "cursor = connection.cursor()\n",
    "cursor.execute(select_posts_comments_users)\n",
    "cursor.fetchone()\n",
    "column_names = [description[0] for description in cursor.description]\n",
    "print(column_names)"
   ]
  },
  {
   "cell_type": "code",
   "execution_count": null,
   "metadata": {},
   "outputs": [],
   "source": [
    "# returns the post, along with the total number of likes that the post received\n",
    "# Implicit joins use a comma-separated list of tables in the FROM clause, \n",
    "# and the join conditions are specified in the WHERE clause. \n",
    "# Implicit join is a deprecated syntax and is not recommended for use.\n",
    "\n",
    "select_posts_likes = \"\"\"\n",
    "SELECT \n",
    "    posts.description as post, COUNT(likes.id) as likes\n",
    "FROM \n",
    "    posts, likes\n",
    "WHERE \n",
    "    posts.id = likes.post_id\n",
    "GROUP BY \n",
    "    likes.post_id;\n",
    "\"\"\"\n",
    "posts_likes = execute_read(connection, select_posts_likes)\n",
    "for post_like in posts_likes:\n",
    "    print(post_like)"
   ]
  },
  {
   "cell_type": "code",
   "execution_count": null,
   "metadata": {},
   "outputs": [],
   "source": [
    "# returns the post, along with the total number of likes that the post received\n",
    "# Explicit joins use the JOIN keyword to specify the join operation, \n",
    "# and the join conditions are specified in the ON clause. \n",
    "# This is a recommended syntax.\n",
    "\n",
    "select_posts_likes = \"\"\"\n",
    "SELECT \n",
    "    posts.description as post, COUNT(likes.id) as likes\n",
    "FROM \n",
    "    posts\n",
    "INNER JOIN likes ON posts.id = likes.post_id\n",
    "GROUP BY \n",
    "    likes.post_id;\n",
    "\"\"\"\n",
    "posts_likes = execute_read(connection, select_posts_likes)\n",
    "for post_like in posts_likes:\n",
    "    print(post_like)"
   ]
  },
  {
   "cell_type": "markdown",
   "metadata": {},
   "source": [
    "### Update Records"
   ]
  },
  {
   "cell_type": "code",
   "execution_count": null,
   "metadata": {},
   "outputs": [],
   "source": [
    "select_post_description = \"SELECT description FROM posts WHERE id = 2\"\n",
    "posts_description = execute_read(connection, select_post_description)\n",
    "for post_description in posts_description:\n",
    "    print(post_description)\n",
    "\n",
    "update_post_description = \"\"\"\n",
    "UPDATE\n",
    "    posts\n",
    "SET\n",
    "    description = 'The weather has become pleasant now'  \n",
    "WHERE\n",
    "    id = 2;      \n",
    "\"\"\"\n",
    "execute_sql(connection, update_post_description)\n",
    "posts_description = execute_read(connection, select_post_description)\n",
    "for post_description in posts_description:\n",
    "    print(post_description)"
   ]
  },
  {
   "cell_type": "markdown",
   "metadata": {},
   "source": [
    "### Delete Records"
   ]
  },
  {
   "cell_type": "code",
   "execution_count": null,
   "metadata": {},
   "outputs": [],
   "source": [
    "select_comments = \"SELECT * FROM comments;\"\n",
    "comments_all = execute_read(connection, select_comments)\n",
    "for comment in comments_all:\n",
    "    print(comment)\n",
    "delete_comment = \"DELETE FROM comments WHERE id = 5;\"\n",
    "execute_sql(connection, delete_comment)\n",
    "comments_all = execute_read(connection, select_comments)\n",
    "for comment in comments_all:\n",
    "    print(comment)"
   ]
  },
  {
   "cell_type": "markdown",
   "metadata": {},
   "source": [
    "### Drop Tables"
   ]
  },
  {
   "cell_type": "code",
   "execution_count": null,
   "metadata": {},
   "outputs": [],
   "source": [
    "db_path = Path.cwd() / 'SQLiteDB' / 'sm_app.sqlite'\n",
    "connection = build_connection(db_path)\n",
    "try:\n",
    "    cursor = connection.cursor()\n",
    "    cursor.execute(\"DROP TABLE IF EXISTS likes;\")\n",
    "    print(\"Table dropped successfully.\")\n",
    "except Error as e:\n",
    "    print(f'The error {e} occured')\n",
    "\n",
    "finally:\n",
    "    cursor.close()\n",
    "    connection.close()"
   ]
  },
  {
   "cell_type": "markdown",
   "metadata": {},
   "source": [
    "### Close Connection"
   ]
  },
  {
   "cell_type": "code",
   "execution_count": null,
   "metadata": {},
   "outputs": [],
   "source": [
    "try:\n",
    "    connection.commit()\n",
    "    print(\"connection commit successfully.\")\n",
    "    cursor.close()\n",
    "    print(\"cursor close successfully.\")\n",
    "    connection.close()\n",
    "    print(\"connection close successfully.\")\n",
    "except Error as e:\n",
    "    print(f'The error {e} occured')    "
   ]
  }
 ],
 "metadata": {
  "kernelspec": {
   "display_name": ".venv",
   "language": "python",
   "name": "python3"
  },
  "language_info": {
   "codemirror_mode": {
    "name": "ipython",
    "version": 3
   },
   "file_extension": ".py",
   "mimetype": "text/x-python",
   "name": "python",
   "nbconvert_exporter": "python",
   "pygments_lexer": "ipython3",
   "version": "3.13.2"
  }
 },
 "nbformat": 4,
 "nbformat_minor": 2
}

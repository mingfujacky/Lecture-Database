{
 "cells": [
  {
   "cell_type": "markdown",
   "metadata": {},
   "source": [
    "### Import Library"
   ]
  },
  {
   "cell_type": "code",
   "execution_count": null,
   "metadata": {},
   "outputs": [],
   "source": [
    "import sys\n",
    "sys.path.append(\n",
    "    \"/Users/jacky/Library/Mobile Documents/com~apple~CloudDocs/交大教學/DB/Lecture-Database/.venv/lib/python3.13/site-packages\")\n",
    "import mysql.connector"
   ]
  },
  {
   "cell_type": "markdown",
   "metadata": {},
   "source": [
    "### Build Functions"
   ]
  },
  {
   "cell_type": "code",
   "execution_count": null,
   "metadata": {},
   "outputs": [],
   "source": [
    "def build_connection(host, user, password, database):\n",
    "    connection = None\n",
    "    try:\n",
    "        connection = mysql.connector.connect(\n",
    "        host=host,\n",
    "        user=user,\n",
    "        password=password,\n",
    "        database=database\n",
    "        )\n",
    "        print(f'Connection to MySQL {database} database successfully!!')\n",
    "    except mysql.connector.OperationalError as err:\n",
    "        print(f\"❌ OperationalError: {err.errno} | SQLSTATE: {err.sqlstate} | Message: {err.msg}\")\n",
    "    except mysql.connector.DatabaseError as err:\n",
    "        print(f\"❌ DatabaseError: {err.errno} | SQLSTATE: {err.sqlstate} | Message: {err.msg}\")\n",
    "    except mysql.connector.InterfaceError as err:\n",
    "        print(f\"❌ InterfaceError: {err.errno} | SQLSTATE: {err.sqlstate} | Message: {err.msg}\")\n",
    "    return connection"
   ]
  },
  {
   "cell_type": "code",
   "execution_count": null,
   "metadata": {},
   "outputs": [],
   "source": [
    "def execute_sql(connection, sql):\n",
    "    cursor = connection.cursor()\n",
    "    try:\n",
    "        cursor.execute(sql)\n",
    "        connection.commit()\n",
    "        print(\"Query executed successfully\")\n",
    "    except mysql.connector.IntegrityError as err:\n",
    "        print(f\"❌ IntegrityError: {err.errno} | SQLSTATE: {err.sqlstate} | Message: {err.msg}\")\n",
    "    except mysql.connector.ProgrammingError as err:\n",
    "        print(f\"❌ ProgrammingError: {err.errno} | SQLSTATE: {err.sqlstate} | Message: {err.msg}\")\n",
    "    except mysql.connector.OperationalError as err:\n",
    "        print(f\"❌ OperationalError: {err.errno} | SQLSTATE: {err.sqlstate} | Message: {err.msg}\")\n",
    "    except mysql.connector.DataError as err:\n",
    "        print(f\"❌ DataError: {err.errno} | SQLSTATE: {err.sqlstate} | Message: {err.msg}\")\n",
    "    except mysql.connector.NotSupportedError as err:\n",
    "        print(f\"❌ NotSupportedError: {err.errno} | SQLSTATE: {err.sqlstate} | Message: {err.msg}\")\n",
    "    except mysql.connector.InternalError as err:\n",
    "        print(f\"❌ InternalError: {err.errno} | SQLSTATE: {err.sqlstate} | Message: {err.msg}\")"
   ]
  },
  {
   "cell_type": "code",
   "execution_count": null,
   "metadata": {},
   "outputs": [],
   "source": [
    "def execute_read(connection, sql):\n",
    "    cursor = connection.cursor()\n",
    "    result = None\n",
    "    try:\n",
    "        cursor.execute(sql)\n",
    "        result = cursor.fetchall()\n",
    "        return result\n",
    "    except mysql.connector.ProgrammingError as err:\n",
    "        print(f\"❌ ProgrammingError: {err.errno} | SQLSTATE: {err.sqlstate} | Message: {err.msg}\")\n",
    "    except mysql.connector.OperationalError as err:\n",
    "        print(f\"❌ OperationalError: {err.errno} | SQLSTATE: {err.sqlstate} | Message: {err.msg}\")\n",
    "    except mysql.connector.DataError as err:\n",
    "        print(f\"❌ DataError: {err.errno} | SQLSTATE: {err.sqlstate} | Message: {err.msg}\")\n",
    "    except mysql.connector.NotSupportedError as err:\n",
    "        print(f\"❌ NotSupportedError: {err.errno} | SQLSTATE: {err.sqlstate} | Message: {err.msg}\")\n",
    "    except mysql.connector.InternalError as err:\n",
    "        print(f\"❌ InternalError: {err.errno} | SQLSTATE: {err.sqlstate} | Message: {err.msg}\")"
   ]
  },
  {
   "cell_type": "markdown",
   "metadata": {},
   "source": [
    "### Build Connection"
   ]
  },
  {
   "cell_type": "code",
   "execution_count": null,
   "metadata": {},
   "outputs": [],
   "source": [
    "connection = build_connection('localhost', 'dbms_demo', 'NYCUdbms314', 'demo')"
   ]
  },
  {
   "cell_type": "markdown",
   "metadata": {},
   "source": [
    "### Create Tables"
   ]
  },
  {
   "cell_type": "code",
   "execution_count": null,
   "metadata": {},
   "outputs": [],
   "source": [
    "create_user_table = \"\"\"\n",
    "CREATE TABLE IF NOT EXISTS user (\n",
    "    id INT PRIMARY KEY AUTO_INCREMENT,\n",
    "    name VARCHAR(20) NOT NULL,\n",
    "    age INT,\n",
    "    gender VARCHAR(10),\n",
    "    nationality VARCHAR(20)\n",
    ");\n",
    "\"\"\"\n",
    "create_post_table = \"\"\"\n",
    "CREATE TABLE IF NOT EXISTS post (\n",
    "    id INT PRIMARY KEY AUTO_INCREMENT,\n",
    "    title VARCHAR(100) NOT NULL,\n",
    "    description TEXT,\n",
    "    user_id INT NOT NULL,\n",
    "    CONSTRAINT FOREIGN KEY (user_id) REFERENCES user (id)\n",
    ");\n",
    "\"\"\"\n",
    "create_comment_table = \"\"\"\n",
    "CREATE TABLE IF NOT EXISTS comment (\n",
    "    id INT PRIMARY KEY AUTO_INCREMENT,\n",
    "    text TEXT NOT NULL,\n",
    "    user_id INT NOT NULL,\n",
    "    post_id INT NOT NULL,\n",
    "    CONSTRAINT FOREIGN KEY (user_id) REFERENCES user (id),\n",
    "    CONSTRAINT FOREIGN KEY (post_id) REFERENCES post (id)\n",
    ");\n",
    "\"\"\"\n",
    "create_like_table = \"\"\"\n",
    "CREATE TABLE IF NOT EXISTS like_ (\n",
    "    id INT PRIMARY KEY AUTO_INCREMENT,\n",
    "    user_id INT NOT NULL,\n",
    "\tpost_id\tINT NOT NULL,\n",
    "\tCONSTRAINT FOREIGN KEY(user_id) REFERENCES user (id),\n",
    "\tCONSTRAINT FOREIGN KEY(post_id) REFERENCES post (id)\n",
    ");\n",
    "\"\"\"\n",
    "execute_sql(connection, create_user_table)\n",
    "execute_sql(connection, create_post_table)\n",
    "execute_sql(connection, create_comment_table)\n",
    "execute_sql(connection, create_like_table)"
   ]
  },
  {
   "cell_type": "markdown",
   "metadata": {},
   "source": [
    "### Create Records"
   ]
  },
  {
   "cell_type": "code",
   "execution_count": null,
   "metadata": {},
   "outputs": [],
   "source": [
    "insert_user = \"\"\"\n",
    "INSERT INTO user (name, age, gender, nationality)\n",
    "VALUES\n",
    "    ('James', 25, 'male', 'USA'),\n",
    "    ('Leila', 32, 'female', 'France'),\n",
    "    ('Brigitte', 35, 'female', 'England'),\n",
    "    ('Mike', 40, 'male', 'Denmark'),\n",
    "    ('Elizabeth', 21, 'female', 'Canada');\n",
    "\"\"\"\n",
    "execute_sql(connection, insert_user)"
   ]
  },
  {
   "cell_type": "code",
   "execution_count": null,
   "metadata": {},
   "outputs": [],
   "source": [
    "insert_post = \"\"\"\n",
    "INSERT INTO post (title, description, user_id)\n",
    "VALUES\n",
    "    ('Happy', 'I am feeling very happy today', 1),\n",
    "    ('Hot Weather', 'The weather is very hot today', 2),\n",
    "    ('Help', 'I need some help with my work', 2),\n",
    "    ('Great News', 'I am getting married', 1),\n",
    "    ('Interesting Game', 'It was a fantastic game of tennis', 5),\n",
    "    ('Party', 'Anyone up for a late-night party today?', 3);\n",
    "\"\"\"\n",
    "execute_sql(connection, insert_post) "
   ]
  },
  {
   "cell_type": "code",
   "execution_count": null,
   "metadata": {},
   "outputs": [],
   "source": [
    "insert_comment = \"\"\"\n",
    "INSERT INTO comment (text, user_id, post_id)\n",
    "VALUES\n",
    "    ('Count me in', 1, 6),\n",
    "    ('What sort of help?', 5, 3),\n",
    "    ('Congrats buddy', 2, 4),\n",
    "    ('I was rooting for Nadal though', 4, 5),\n",
    "    ('Help with your thesis?', 2, 3),\n",
    "    ('Many congratulations', 5, 4);\n",
    "\"\"\"\n",
    "execute_sql(connection, insert_comment) "
   ]
  },
  {
   "cell_type": "code",
   "execution_count": null,
   "metadata": {},
   "outputs": [],
   "source": [
    "insert_like_ = \"\"\"\n",
    "INSERT INTO like_ (user_id, post_id)\n",
    "VALUES\n",
    "    (1, 6),\n",
    "    (2, 3),\n",
    "    (1, 5),\n",
    "    (5, 4),\n",
    "    (2, 4),\n",
    "    (4, 2),\n",
    "    (3, 6);\n",
    "\"\"\"\n",
    "execute_sql(connection, insert_like_)"
   ]
  },
  {
   "cell_type": "markdown",
   "metadata": {},
   "source": [
    "### Read Records"
   ]
  },
  {
   "cell_type": "code",
   "execution_count": null,
   "metadata": {},
   "outputs": [],
   "source": [
    "select_user = \"SELECT * FROM user\"\n",
    "users = execute_read(connection, select_user)\n",
    "for user in users:\n",
    "    print(user)"
   ]
  },
  {
   "cell_type": "code",
   "execution_count": null,
   "metadata": {},
   "outputs": [],
   "source": [
    "select_post = \"SELECT * FROM post\"\n",
    "posts = execute_read(connection, select_post)\n",
    "for post in posts:\n",
    "    print(post)"
   ]
  },
  {
   "cell_type": "code",
   "execution_count": null,
   "metadata": {},
   "outputs": [],
   "source": [
    "select_comment = \"SELECT * FROM comment\"\n",
    "comments = execute_read(connection, select_comment)\n",
    "for comment in comments:\n",
    "    print(comment)"
   ]
  },
  {
   "cell_type": "code",
   "execution_count": null,
   "metadata": {},
   "outputs": [],
   "source": [
    "select_likes = \"SELECT * FROM like_\"\n",
    "likes = execute_read(connection, select_likes)\n",
    "for like in likes:\n",
    "    print(like)"
   ]
  },
  {
   "cell_type": "code",
   "execution_count": null,
   "metadata": {},
   "outputs": [],
   "source": [
    "# return the user ids and names, along with the description of the posts that these users posted\n",
    "select_user_post = \"\"\"\n",
    "SELECT user.id, user.name, post.description\n",
    "FROM post \n",
    "INNER JOIN user ON post.user_id = user.id;\n",
    "\"\"\"\n",
    "users_posts = execute_read(connection, select_user_post)\n",
    "for user_post in users_posts:\n",
    "    print(user_post)"
   ]
  },
  {
   "cell_type": "code",
   "execution_count": null,
   "metadata": {},
   "outputs": [],
   "source": [
    "# returns all posts, along with the comments on the posts and \n",
    "# the names of the users who posted the comments\n",
    "select_post_comment_user = \"\"\"\n",
    "SELECT post.description as post, comment.text as comment, user.name as name\n",
    "FROM post \n",
    "INNER JOIN comment ON post.id = comment.post_id\n",
    "INNER JOIN user ON user.id = comment.user_id;\n",
    "\"\"\"\n",
    "posts_comments_users = execute_read(connection, select_post_comment_user)\n",
    "for post_comment_user in posts_comments_users:\n",
    "    print(post_comment_user)"
   ]
  },
  {
   "cell_type": "code",
   "execution_count": null,
   "metadata": {},
   "outputs": [],
   "source": [
    "# returns the post, along with the total number of likes that the post received\n",
    "# Implicit joins use a comma-separated list of tables in the FROM clause, \n",
    "# and the join conditions are specified in the WHERE clause. \n",
    "# Implicit join is a deprecated syntax and is not recommended for use.\n",
    "# cursor.close()\n",
    "# cursor = connection.cursor()\n",
    "\n",
    "select_post_like_ = \"\"\"\n",
    "SELECT post.description as post_desc, COUNT(like_.id) as likes\n",
    "FROM post, like_\n",
    "WHERE post.id = like_.post_id\n",
    "GROUP BY like_.post_id;\n",
    "\"\"\"\n",
    "posts_likes = execute_read(connection, select_post_like_)\n",
    "for post_like in posts_likes:\n",
    "    print(post_like)"
   ]
  },
  {
   "cell_type": "code",
   "execution_count": null,
   "metadata": {},
   "outputs": [],
   "source": [
    "# returns the post, along with the total number of likes that the post received\n",
    "# Explicit joins use the JOIN keyword to specify the join operation, \n",
    "# and the join conditions are specified in the ON clause. \n",
    "# This is a recommended syntax.\n",
    "\n",
    "select_posts_likes = \"\"\"\n",
    "SELECT \n",
    "    post.description as post, COUNT(like_.id) as like_\n",
    "FROM \n",
    "    post\n",
    "INNER JOIN like_ ON post.id = like_.post_id\n",
    "GROUP BY \n",
    "    like_.post_id;\n",
    "\"\"\"\n",
    "posts_likes = execute_read(connection, select_posts_likes)\n",
    "for post_like in posts_likes:\n",
    "    print(post_like)"
   ]
  },
  {
   "cell_type": "markdown",
   "metadata": {},
   "source": [
    "### Update Records"
   ]
  },
  {
   "cell_type": "code",
   "execution_count": null,
   "metadata": {},
   "outputs": [],
   "source": [
    "select_post_description = \"SELECT description FROM post WHERE id = 2\"\n",
    "posts_description = execute_read(connection, select_post_description)\n",
    "for post_description in posts_description:\n",
    "    print(post_description)\n",
    "\n",
    "update_post_description = \"\"\"\n",
    "UPDATE\n",
    "    post\n",
    "SET\n",
    "    description = 'The weather has become pleasant now'  \n",
    "WHERE\n",
    "    id = 2;      \n",
    "\"\"\"\n",
    "execute_sql(connection, update_post_description)"
   ]
  },
  {
   "cell_type": "markdown",
   "metadata": {},
   "source": [
    "### Delete Records"
   ]
  },
  {
   "cell_type": "code",
   "execution_count": null,
   "metadata": {},
   "outputs": [],
   "source": [
    "delete_comment = \"DELETE FROM comment WHERE id = 5;\"\n",
    "execute_sql(connection, delete_comment)"
   ]
  },
  {
   "cell_type": "markdown",
   "metadata": {},
   "source": [
    "### Close Connection"
   ]
  },
  {
   "cell_type": "code",
   "execution_count": null,
   "metadata": {},
   "outputs": [],
   "source": [
    "try:\n",
    "    connection.commit()\n",
    "    print(\"connection commit successfully.\")\n",
    "    if 'cursor' in locals():\n",
    "        cursor.close()\n",
    "        print(\"cursor close successfully.\")\n",
    "    if 'connection' in locals() and connection.is_connected():\n",
    "        connection.close()\n",
    "        print(\"connection close successfully.\")\n",
    "except mysql.connector.Error as e:\n",
    "    print(f\"❌ MySQL Error occurred: {e}\")\n",
    "\n",
    "except Exception as e:\n",
    "    print(f\"❌ An unexpected error occurred: {e}\")\n",
    "\n",
    "finally:\n",
    "    # Ensure the connection is closed if it was opened\n",
    "    if 'connection' in locals() and connection.is_connected():\n",
    "        connection.close()\n",
    "        print(\"🔒 Connection closed in finally block.\")"
   ]
  }
 ],
 "metadata": {
  "kernelspec": {
   "display_name": ".venv",
   "language": "python",
   "name": "python3"
  },
  "language_info": {
   "codemirror_mode": {
    "name": "ipython",
    "version": 3
   },
   "file_extension": ".py",
   "mimetype": "text/x-python",
   "name": "python",
   "nbconvert_exporter": "python",
   "pygments_lexer": "ipython3",
   "version": "3.13.2"
  }
 },
 "nbformat": 4,
 "nbformat_minor": 2
}

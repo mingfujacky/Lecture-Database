{
 "cells": [
  {
   "cell_type": "code",
   "execution_count": 3,
   "metadata": {},
   "outputs": [],
   "source": [
    "import sys\n",
    "sys.path.append(\n",
    "    \"/Users/jacky/Library/Mobile Documents/com~apple~CloudDocs/交大教學/DB/Lecture-Database/.venv/lib/python3.13/site-packages\")\n",
    "import mysql.connector\n",
    "conn = mysql.connector.connect(\n",
    "    host=\"localhost\",   # Change to your MySQL server host\n",
    "    user=\"dbms_demo\",        # Change to your username\n",
    "    password=\"NYCUdbms314\",  # Change to your password\n",
    "    database=\"demo\"  # Change to your database name\n",
    ")\n",
    "cur = conn.cursor()"
   ]
  },
  {
   "cell_type": "markdown",
   "metadata": {},
   "source": [
    "### Alt1 execute SQL cur.execute()"
   ]
  },
  {
   "cell_type": "code",
   "execution_count": 4,
   "metadata": {},
   "outputs": [
    {
     "data": {
      "text/plain": [
       "<bound method CMySQLConnection.commit of <mysql.connector.connection_cext.CMySQLConnection object at 0x110943ed0>>"
      ]
     },
     "execution_count": 4,
     "metadata": {},
     "output_type": "execute_result"
    }
   ],
   "source": [
    "cur.execute(\"\"\"\n",
    "            CREATE TABLE IF NOT EXISTS Name\n",
    "            (first_name TEXT, last_name TEXT)\n",
    "\"\"\")\n",
    "conn.commit"
   ]
  },
  {
   "cell_type": "markdown",
   "metadata": {},
   "source": [
    "### Alt2 execute SQL cur.executemany()"
   ]
  },
  {
   "cell_type": "code",
   "execution_count": 6,
   "metadata": {},
   "outputs": [],
   "source": [
    "name_list = [\n",
    "    ('Smith', 'John'),\n",
    "    ('Johnson', 'Jane'),\n",
    "    ('Lee', 'Samantha'),\n",
    "    ('Patel', 'Raj'),\n",
    "    ('Hernandez', 'Maria'),\n",
    "]\n",
    "cur.executemany(\"\"\"\n",
    "                INSERT INTO Name (first_name, last_name) VALUES (%s, %s)\n",
    "                \"\"\", name_list)\n",
    "conn.commit()"
   ]
  },
  {
   "cell_type": "code",
   "execution_count": 9,
   "metadata": {},
   "outputs": [],
   "source": [
    "cur.close()\n",
    "conn.close()"
   ]
  }
 ],
 "metadata": {
  "kernelspec": {
   "display_name": ".venv",
   "language": "python",
   "name": "python3"
  },
  "language_info": {
   "codemirror_mode": {
    "name": "ipython",
    "version": 3
   },
   "file_extension": ".py",
   "mimetype": "text/x-python",
   "name": "python",
   "nbconvert_exporter": "python",
   "pygments_lexer": "ipython3",
   "version": "3.13.2"
  }
 },
 "nbformat": 4,
 "nbformat_minor": 2
}
